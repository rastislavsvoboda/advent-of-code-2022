{
 "cells": [
  {
   "cell_type": "code",
   "execution_count": 24,
   "metadata": {},
   "outputs": [],
   "source": [
    "import numpy as np\n",
    "import re\n",
    "\n",
    "lines_sample = open('15.ex1').readlines()\n",
    "lines_puzzle = open('15.in').readlines()"
   ]
  },
  {
   "cell_type": "code",
   "execution_count": 25,
   "metadata": {},
   "outputs": [],
   "source": [
    "def fill2(G, s, d):\n",
    "    XX = len(G)\n",
    "    YY = len(G[0])\n",
    "    sx, sy = s\n",
    "    dy = 0\n",
    "    while d > 0:\n",
    "        for x in range(sx-d, sx+d+1):\n",
    "\n",
    "            G[x][sy+dy] +=1\n",
    "            G[x][sy-dy] +=1\n",
    "        d -= 1\n",
    "        dy += 1\n",
    "\n",
    "def manh(s, b):\n",
    "    sx, sy = s\n",
    "    bx, by = b\n",
    "    return abs(sx-bx) + abs(sy-by)\n",
    "    \n",
    "def solve2(lines):\n",
    "    res = 0\n",
    "\n",
    "    G = {}\n",
    "    S = []\n",
    "    B = []\n",
    "    D = []\n",
    "    for line in lines:\n",
    "        line = line.strip()\n",
    "        words = line.split()\n",
    "        nums = [int(n) for n in re.findall(r\"[+-]?\\d+\", line)]\n",
    "        # print(nums)\n",
    "        s = (nums[0], nums[1])\n",
    "        b = (nums[2], nums[3])\n",
    "        d = manh(s, b)\n",
    "        # print(s,b,d)\n",
    "        G[s] = \"S\"\n",
    "        G[b] = \"B\"\n",
    "        S.append(s)\n",
    "        B.append(b)\n",
    "        D.append(d)\n",
    "\n",
    "    # dd = sorted(D, reverse=True)\n",
    "    # print(len(dd), len(set(dd)))\n",
    "\n",
    "\n",
    "    Y1=0\n",
    "    Y2=4000000\n",
    "    X1=0\n",
    "    X2=4000000\n",
    "    # Y1=0\n",
    "    # Y2=20\n",
    "    # X1=0\n",
    "    # X2=20\n",
    "\n",
    "    print(\"creating\")\n",
    "\n",
    "\n",
    "    DD = np.zeros((X2, Y2), bool)  \n",
    "\n",
    "    # DD = [ [ 0 for y in range( Y2 ) ] for x in range( Y1 ) ]\n",
    "    print(\"created\", len(DD))\n",
    "\n",
    "\n",
    "\n",
    "    found = (0,0)\n",
    "    print(\"0\")\n",
    "    fill2(DD,S[0],D[0])\n",
    "    print(\"0\")\n",
    "\n",
    "    # for xx in range(X1,X2+1):\n",
    "    #     print(xx)\n",
    "    #     for yy in range(Y1,Y2+1):\n",
    "    #         R.append((xx,yy))\n",
    "\n",
    "    # for dd in sorted(D, reverse=True):\n",
    "    #     i = D.index(dd)\n",
    "    #     print(i,dd)\n",
    "\n",
    "\n",
    "\n",
    "    # while len(R) > 1:\n",
    "\n",
    "\n",
    "    #     for i,s in enumerate(S):\n",
    "\n",
    "\n",
    "\n",
    "\n",
    "    # rr = [yy for yy in range(Y1,Y2+1) if all(manh(s,(xx,yy)) > D[i] for (i,s) in enumerate(S))]\n",
    "    # if len(rr) != 0:\n",
    "    #     found = xx,rr[0]\n",
    "    #     break\n",
    "\n",
    "    res = found[0] * 4000000 + found[1]\n",
    "    return res\n"
   ]
  },
  {
   "cell_type": "code",
   "execution_count": 26,
   "metadata": {},
   "outputs": [
    {
     "name": "stdout",
     "output_type": "stream",
     "text": [
      "creating\n"
     ]
    },
    {
     "ename": "MemoryError",
     "evalue": "Unable to allocate 14.6 TiB for an array with shape (4000000, 4000000) and data type bool",
     "output_type": "error",
     "traceback": [
      "\u001b[1;31m---------------------------------------------------------------------------\u001b[0m",
      "\u001b[1;31mMemoryError\u001b[0m                               Traceback (most recent call last)",
      "\u001b[1;32m~\\AppData\\Local\\Temp/ipykernel_6500/1548430413.py\u001b[0m in \u001b[0;36m<module>\u001b[1;34m\u001b[0m\n\u001b[1;32m----> 1\u001b[1;33m \u001b[0msolve2\u001b[0m\u001b[1;33m(\u001b[0m\u001b[0mlines_puzzle\u001b[0m\u001b[1;33m)\u001b[0m\u001b[1;33m\u001b[0m\u001b[1;33m\u001b[0m\u001b[0m\n\u001b[0m",
      "\u001b[1;32m~\\AppData\\Local\\Temp/ipykernel_6500/124906605.py\u001b[0m in \u001b[0;36msolve2\u001b[1;34m(lines)\u001b[0m\n\u001b[0;32m     55\u001b[0m \u001b[1;33m\u001b[0m\u001b[0m\n\u001b[0;32m     56\u001b[0m \u001b[1;33m\u001b[0m\u001b[0m\n\u001b[1;32m---> 57\u001b[1;33m     \u001b[0mDD\u001b[0m \u001b[1;33m=\u001b[0m \u001b[0mnp\u001b[0m\u001b[1;33m.\u001b[0m\u001b[0mzeros\u001b[0m\u001b[1;33m(\u001b[0m\u001b[1;33m(\u001b[0m\u001b[0mX2\u001b[0m\u001b[1;33m,\u001b[0m \u001b[0mY2\u001b[0m\u001b[1;33m)\u001b[0m\u001b[1;33m,\u001b[0m \u001b[0mbool\u001b[0m\u001b[1;33m)\u001b[0m\u001b[1;33m\u001b[0m\u001b[1;33m\u001b[0m\u001b[0m\n\u001b[0m\u001b[0;32m     58\u001b[0m \u001b[1;33m\u001b[0m\u001b[0m\n\u001b[0;32m     59\u001b[0m     \u001b[1;31m# DD = [ [ 0 for y in range( Y2 ) ] for x in range( Y1 ) ]\u001b[0m\u001b[1;33m\u001b[0m\u001b[1;33m\u001b[0m\u001b[0m\n",
      "\u001b[1;31mMemoryError\u001b[0m: Unable to allocate 14.6 TiB for an array with shape (4000000, 4000000) and data type bool"
     ]
    }
   ],
   "source": [
    "solve2(lines_puzzle)"
   ]
  }
 ],
 "metadata": {
  "kernelspec": {
   "display_name": "Python 3.10.5 64-bit",
   "language": "python",
   "name": "python3"
  },
  "language_info": {
   "codemirror_mode": {
    "name": "ipython",
    "version": 3
   },
   "file_extension": ".py",
   "mimetype": "text/x-python",
   "name": "python",
   "nbconvert_exporter": "python",
   "pygments_lexer": "ipython3",
   "version": "3.10.5"
  },
  "orig_nbformat": 4,
  "vscode": {
   "interpreter": {
    "hash": "369f2c481f4da34e4445cda3fffd2e751bd1c4d706f27375911949ba6bb62e1c"
   }
  }
 },
 "nbformat": 4,
 "nbformat_minor": 2
}
